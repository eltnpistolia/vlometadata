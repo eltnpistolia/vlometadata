{
  "cells": [
    {
      "cell_type": "markdown",
      "source": [
        "### Installing and Importing libraries"
      ],
      "metadata": {
        "id": "KylUv6wRt68t"
      }
    },
    {
      "cell_type": "code",
      "execution_count": null,
      "metadata": {
        "id": "trlwlhArEypR"
      },
      "outputs": [],
      "source": [
        "!pip install --upgrade pip --user\n",
        "!pip install lxml --user\n",
        "!pip install spacy_language_detection"
      ]
    },
    {
      "cell_type": "code",
      "execution_count": null,
      "metadata": {
        "id": "rEEeSsW5Eypd"
      },
      "outputs": [],
      "source": [
        "import pandas as pd\n",
        "import pprint\n",
        "import re\n",
        "import csv\n",
        "from collections import Counter\n",
        "\n",
        "import requests\n",
        "from io import StringIO\n",
        "from lxml import etree\n",
        "import spacy\n",
        "from spacy import displacy\n",
        "from spacy.language import Language\n",
        "from spacy_language_detection import LanguageDetector"
      ]
    },
    {
      "cell_type": "markdown",
      "source": [
        "### Create a language detector and add it the pipeline."
      ],
      "metadata": {
        "id": "EiyYAwfLuJxC"
      }
    },
    {
      "cell_type": "code",
      "execution_count": 4,
      "metadata": {
        "id": "FTUoUeJ_Eypf"
      },
      "outputs": [],
      "source": [
        "@Language.factory(\"language_detector\")\n",
        "def get_lang_detector(nlp, name):\n",
        "   return LanguageDetector()"
      ]
    },
    {
      "cell_type": "code",
      "source": [
        "!python -m spacy download en_core_web_lg"
      ],
      "metadata": {
        "id": "Lk8iA3Xg8jd4"
      },
      "execution_count": null,
      "outputs": []
    },
    {
      "cell_type": "code",
      "execution_count": 6,
      "metadata": {
        "id": "UmHF_e8nEypf",
        "colab": {
          "base_uri": "https://localhost:8080/"
        },
        "outputId": "7301da1a-645c-41d1-f894-c1bee5c63c55"
      },
      "outputs": [
        {
          "output_type": "execute_result",
          "data": {
            "text/plain": [
              "<spacy_language_detection.spacy_language_detector.LanguageDetector at 0x7fb765f9a490>"
            ]
          },
          "metadata": {},
          "execution_count": 6
        }
      ],
      "source": [
        "nlp = spacy.load(\"en_core_web_lg\")\n",
        "nlp.add_pipe(\"language_detector\", last=True)"
      ]
    },
    {
      "cell_type": "markdown",
      "source": [
        "### Get the descriptions"
      ],
      "metadata": {
        "id": "_hLihBwYuYwS"
      }
    },
    {
      "cell_type": "code",
      "execution_count": null,
      "metadata": {
        "id": "MZPNe2_6Eyph"
      },
      "outputs": [],
      "source": [
        "index_url = 'https://alpha-vlo.clarin.eu/data/clarin/results/cmdi/COllections_de_COrpus_Oraux_Numeriques_CoCoON_ex_CRDO_/'\n",
        "response = requests.get(index_url)\n",
        "\n",
        "if response.status_code == 200:\n",
        "    html = response.content.decode('utf-8')\n",
        "    parser = etree.HTMLParser()\n",
        "    tree = etree.fromstring(html, parser)\n",
        "\n",
        "    xml_links = tree.xpath('//a[@href and substring(@href, string-length(@href) - 3)=\".xml\"]/@href')\n",
        "\n",
        "else:\n",
        "    print(f\"Error: {response.status_code}\")\n",
        "\n",
        "descriptions = []\n",
        "\n",
        "for xml_link in xml_links:\n",
        "    xml_url = index_url + xml_link\n",
        "    xml_response = requests.get(xml_url)\n",
        "    if xml_response.status_code == 200:\n",
        "        xml_content = xml_response.content\n",
        "        xml_parser = etree.XMLParser()\n",
        "        xml_tree = etree.fromstring(xml_content, xml_parser)\n",
        "        try:\n",
        "            description = xml_tree.xpath('//cmd:CMD/cmd:Components/cmdp:OLAC-DcmiTerms/cmdp:description//text()', \n",
        "                                          namespaces={\"cmd\": \"http://www.clarin.eu/cmd/1\",\n",
        "                                                      \"cmdp\": \"http://www.clarin.eu/cmd/1/profiles/clarin.eu:cr1:p_1288172614026\",\n",
        "                                                      \"xsi\": \"http://www.w3.org/2001/XMLSchema-instance\"})[0]\n",
        "            description = str(description)\n",
        "            description = re.sub(r\"\\n {2,}\", '', description)\n",
        "            description = re.sub(\"\\n\\t+\", ' ', description)\n",
        "            description = re.sub(\"\\0+\", '', description)\n",
        "            description = re.sub(r\"\\n\", ' ', description)\n",
        "            doc = nlp(description)\n",
        "            language = doc._.language[\"language\"]\n",
        "            confidence_score = doc._.language[\"score\"]\n",
        "            descriptions.append((language, confidence_score, doc))\n",
        "        except:\n",
        "            IndexError\n",
        "            continue"
      ]
    },
    {
      "cell_type": "code",
      "source": [
        "descriptions"
      ],
      "metadata": {
        "id": "VOynfghR9pe_"
      },
      "execution_count": null,
      "outputs": []
    },
    {
      "cell_type": "markdown",
      "source": [
        "### Write the descriptions in a .csv file"
      ],
      "metadata": {
        "id": "UpfqkfCMudWg"
      }
    },
    {
      "cell_type": "code",
      "execution_count": null,
      "metadata": {
        "id": "MZNfJoyDEypj"
      },
      "outputs": [],
      "source": [
        "with open('your_csv_file', 'w', newline='', encoding='utf-8') as csvfile:\n",
        "    writer = csv.writer(csvfile)\n",
        "    writer.writerow(['Language', 'Confidence Score', 'Description'])\n",
        "    for language, confidence_score, description in descriptions:\n",
        "        doc = nlp(description)\n",
        "        language = doc._.language[\"language\"]\n",
        "        confidence_score = doc._.language[\"score\"]\n",
        "        writer.writerow([language, confidence_score, description])"
      ]
    },
    {
      "cell_type": "markdown",
      "source": [
        "### Apply NER to the list with the descriptions"
      ],
      "metadata": {
        "id": "Y9gn-l5UulRl"
      }
    },
    {
      "cell_type": "code",
      "source": [
        "for description in descriptions:\n",
        "    doc = nlp(description[2])\n",
        "    displacy.render(doc, jupyter=True, style='ent')"
      ],
      "metadata": {
        "id": "Xw69rPTYaYff"
      },
      "execution_count": null,
      "outputs": []
    },
    {
      "cell_type": "markdown",
      "source": [
        "### Apply NER to the .csv file."
      ],
      "metadata": {
        "id": "qH7E097iuqTB"
      }
    },
    {
      "cell_type": "code",
      "source": [
        "def extract_entities(text):\n",
        "    doc = nlp(text)\n",
        "    return [(ent.text, ent.label_) for ent in doc.ents]\n",
        "\n",
        "def visualize_entities(text):\n",
        "    doc = nlp(text)\n",
        "    return displacy.render(doc, style=\"ent\", jupyter=True)"
      ],
      "metadata": {
        "id": "aS8AYr5QxhHd"
      },
      "execution_count": 15,
      "outputs": []
    },
    {
      "cell_type": "code",
      "source": [
        "df = pd.read_csv(\"your_csv_file\")\n",
        "df.head()"
      ],
      "metadata": {
        "id": "hgQ6n_QVupLK"
      },
      "execution_count": 7,
      "outputs": []
    },
    {
      "cell_type": "code",
      "source": [
        "df[\"Named Entities\"] = df[\"Description\"].apply(lambda x: extract_entities(x))\n",
        "df.head()"
      ],
      "metadata": {
        "id": "hyLNT0Eh0uLu"
      },
      "execution_count": null,
      "outputs": []
    },
    {
      "cell_type": "code",
      "source": [
        "df.to_csv(\"your_csv_file\", index=False)"
      ],
      "metadata": {
        "id": "snGgD5qmy-I0"
      },
      "execution_count": null,
      "outputs": []
    },
    {
      "cell_type": "code",
      "source": [
        "df.head(20)[\"Description\"].apply(lambda x: visualize_entities(x))"
      ],
      "metadata": {
        "id": "bjXv5Fop1Aqr"
      },
      "execution_count": null,
      "outputs": []
    }
  ],
  "metadata": {
    "colab": {
      "provenance": []
    },
    "kernelspec": {
      "display_name": "Python 3",
      "language": "python",
      "name": "python3"
    },
    "language_info": {
      "codemirror_mode": {
        "name": "ipython",
        "version": 3
      },
      "file_extension": ".py",
      "mimetype": "text/x-python",
      "name": "python",
      "nbconvert_exporter": "python",
      "pygments_lexer": "ipython3",
      "version": "3.9.13"
    }
  },
  "nbformat": 4,
  "nbformat_minor": 0
}